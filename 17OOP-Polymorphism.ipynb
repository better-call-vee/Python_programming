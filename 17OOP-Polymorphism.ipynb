{
 "cells": [
  {
   "cell_type": "markdown",
   "id": "dbd21dd5-cbc4-4a92-8408-6522ce4209f5",
   "metadata": {},
   "source": [
    "## Method Overriding. \n",
    "where the `area` method is being overridden. "
   ]
  },
  {
   "cell_type": "code",
   "execution_count": 1,
   "id": "8a6ae9cb-fe0d-439e-9237-aac7070c85e0",
   "metadata": {},
   "outputs": [
    {
     "name": "stdout",
     "output_type": "stream",
     "text": [
      "Area of the square is: 25\n",
      "Area of the circle is: 28.27\n"
     ]
    }
   ],
   "source": [
    "import math\n",
    "\n",
    "# Parent Class\n",
    "class Shape:\n",
    "    def area(self):\n",
    "        print(\"I am a generic shape. I don't have a specific area formula.\")\n",
    "\n",
    "# Child Class 1\n",
    "class Square(Shape):\n",
    "    def __init__(self, side):\n",
    "        self.side = side\n",
    "\n",
    "    # This OVERRIDES the parent's area() method\n",
    "    def area(self):\n",
    "        return self.side * self.side\n",
    "\n",
    "# Child Class 2\n",
    "class Circle(Shape):\n",
    "    def __init__(self, radius):\n",
    "        self.radius = radius\n",
    "\n",
    "    # This ALSO OVERRIDES the parent's area() method\n",
    "    def area(self):\n",
    "        return math.pi * (self.radius ** 2)\n",
    "\n",
    "# --- Let's see the polymorphism in action ---\n",
    "square = Square(5)\n",
    "circle = Circle(3)\n",
    "\n",
    "# The same method call, .area(), behaves differently for each object\n",
    "print(f\"Area of the square is: {square.area()}\")\n",
    "print(f\"Area of the circle is: {circle.area():.2f}\")"
   ]
  },
  {
   "cell_type": "markdown",
   "id": "decd2179-1ca6-44ea-a6b0-71e4d856ff1e",
   "metadata": {},
   "source": [
    "## METHOD OVERLOADING"
   ]
  },
  {
   "cell_type": "code",
   "execution_count": 2,
   "id": "922fbaa0-25f3-40e8-8614-df2c042527fd",
   "metadata": {},
   "outputs": [
    {
     "name": "stdout",
     "output_type": "stream",
     "text": [
      "Full Report -> Math: 95, English: 88\n",
      "Partial Report -> Math: 95\n"
     ]
    }
   ],
   "source": [
    "class ReportCard:\n",
    "    # We use default arguments (math=None, english=None)\n",
    "    def marks(self, math=None, english=None):\n",
    "        if math is not None and english is not None:\n",
    "            # This 'version' of the method runs if both are provided\n",
    "            print(f\"Full Report -> Math: {math}, English: {english}\")\n",
    "        elif math is not None:\n",
    "            # This 'version' runs if only math is provided\n",
    "            print(f\"Partial Report -> Math: {math}\")\n",
    "        else:\n",
    "            print(\"No marks to show.\")\n",
    "\n",
    "# --- Let's use our 'overloaded' method ---\n",
    "report = ReportCard()\n",
    "\n",
    "# Call it with two arguments, the real method overloading happens here\n",
    "report.marks(95, 88) \n",
    "\n",
    "# Call the SAME method with one argument. see. but python automatically gets it. we don't need to declare different functions here.\n",
    "report.marks(95)"
   ]
  },
  {
   "cell_type": "markdown",
   "id": "8d5c95d6-9e7d-40a0-9a9d-82a87203e898",
   "metadata": {},
   "source": [
    "In Python, if you write two methods with the same name, the second one simply overwrites the first one.\n",
    "that's why in python, we don't use the multiple method writing like other languages.  \n",
    "-.-\n",
    "like c++, we don't need different functions, to overload. \n",
    "here, we can just do with if-elif-else"
   ]
  },
  {
   "cell_type": "markdown",
   "id": "94ead12a-23f6-4006-8dcc-ee52cadf7f0b",
   "metadata": {},
   "source": []
  }
 ],
 "metadata": {
  "kernelspec": {
   "display_name": "Python 3 (ipykernel)",
   "language": "python",
   "name": "python3"
  },
  "language_info": {
   "codemirror_mode": {
    "name": "ipython",
    "version": 3
   },
   "file_extension": ".py",
   "mimetype": "text/x-python",
   "name": "python",
   "nbconvert_exporter": "python",
   "pygments_lexer": "ipython3",
   "version": "3.13.1"
  }
 },
 "nbformat": 4,
 "nbformat_minor": 5
}
