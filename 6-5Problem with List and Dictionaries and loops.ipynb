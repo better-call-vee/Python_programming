{
 "cells": [
  {
   "cell_type": "code",
   "execution_count": 1,
   "id": "2d01d06b-d889-4452-8b57-30a82c3c1afd",
   "metadata": {},
   "outputs": [
    {
     "name": "stdout",
     "output_type": "stream",
     "text": [
      "[{'user_id': 101, 'name': 'Alice', 'status': 'active'}, {'user_id': 102, 'name': 'Bob', 'status': 'inactive'}, {'user_id': 103, 'name': 'Charlie', 'status': 'active'}, {'user_id': 104, 'name': 'Diana', 'status': 'active'}]\n"
     ]
    }
   ],
   "source": [
    "# The initial list of user dictionaries\n",
    "user_data = [\n",
    "    {\"user_id\": 101, \"name\": \"Alice\", \"status\": \"active\"},\n",
    "    {\"user_id\": 102, \"name\": \"Bob\", \"status\": \"inactive\"},\n",
    "    {\"user_id\": 999, \"name\": \"Test User\", \"status\": \"active\"},\n",
    "    {\"user_id\": 103, \"name\": \"Charlie\", \"status\": \"active\"}\n",
    "]\n",
    "\n",
    "# --- Step 1: Find and Remove the \"Test User\" ---\n",
    "\n",
    "# We loop through each dictionary in the list\n",
    "for user in user_data:\n",
    "    # We check the value of the 'user_id' key in the current dictionary\n",
    "    if user[\"user_id\"] == 999:\n",
    "        # If it's the test user, we tell the list to remove that exact dictionary\n",
    "        user_data.remove(user)\n",
    "        # We break the loop because our job is done, which is efficient\n",
    "        break\n",
    "\n",
    "# --- Step 2: Add the New User ---\n",
    "\n",
    "# We create the new user's dictionary\n",
    "new_user = {\"user_id\": 104, \"name\": \"Diana\", \"status\": \"active\"}\n",
    "# We append this new dictionary to the end of our list\n",
    "user_data.append(new_user)\n",
    "\n",
    "\n",
    "# --- Step 3: Print the Final Result ---\n",
    "print(user_data)"
   ]
  },
  {
   "cell_type": "markdown",
   "id": "9350e640-767f-46cc-8dc1-87f880b8f780",
   "metadata": {},
   "source": [
    "***This solution works by first looping through the user_data list to inspect each dictionary individually. It uses an if statement to check the value associated with the \"user_id\" key inside each dictionary. When it finds the user with ID 999, it uses the list's .remove() method to find and delete that entire dictionary from the list. After successfully removing the user, a new dictionary for \"Diana\" is created and added to the end of the list using the .append() method. This step-by-step process of iterating, checking, and then modifying is a fundamental pattern for cleaning data in Python.***"
   ]
  },
  {
   "cell_type": "code",
   "execution_count": null,
   "id": "10c61926-1f5b-4e55-918f-60fdac817bfd",
   "metadata": {},
   "outputs": [],
   "source": []
  }
 ],
 "metadata": {
  "kernelspec": {
   "display_name": "Python 3 (ipykernel)",
   "language": "python",
   "name": "python3"
  },
  "language_info": {
   "codemirror_mode": {
    "name": "ipython",
    "version": 3
   },
   "file_extension": ".py",
   "mimetype": "text/x-python",
   "name": "python",
   "nbconvert_exporter": "python",
   "pygments_lexer": "ipython3",
   "version": "3.13.1"
  }
 },
 "nbformat": 4,
 "nbformat_minor": 5
}
