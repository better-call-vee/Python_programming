{
 "cells": [
  {
   "cell_type": "code",
   "execution_count": 27,
   "id": "c5f26c48-687b-439e-9a52-e06411c06270",
   "metadata": {},
   "outputs": [],
   "source": [
    "model_config = {\"model_name\": \"basic_linear_regression\", \"learning_rate\": 0.01}"
   ]
  },
  {
   "cell_type": "markdown",
   "id": "5b6e20dc-166f-438e-aa23-b69be15709dd",
   "metadata": {},
   "source": [
    "**this is how to initialize a dictionary, works like a map.**"
   ]
  },
  {
   "cell_type": "code",
   "execution_count": 28,
   "id": "79a19a09-3582-4bad-9651-58d088666d72",
   "metadata": {
    "scrolled": true
   },
   "outputs": [
    {
     "name": "stdout",
     "output_type": "stream",
     "text": [
      "{'model_name': 'basic_linear_regression', 'learning_rate': 0.01, 'epochs': 100}\n"
     ]
    }
   ],
   "source": [
    "model_config[\"epochs\"] = 100\n",
    "print(model_config)"
   ]
  },
  {
   "cell_type": "code",
   "execution_count": 29,
   "id": "30291f13-c335-4445-a982-0aaf06554697",
   "metadata": {},
   "outputs": [
    {
     "name": "stdout",
     "output_type": "stream",
     "text": [
      "None\n",
      "unknown\n",
      "{'model_name': 'basic_linear_regression', 'learning_rate': 1.2, 'epochs': 100}\n"
     ]
    }
   ],
   "source": [
    "# Safely get the 'date'. If it's not there, it will return None.\n",
    "date = model_config.get(\"date\")\n",
    "print(date)  # Output: None\n",
    "\n",
    "# You can provide a default value\n",
    "status = model_config.get(\"status\", \"unknown\")\n",
    "print(status)  # Output: unknown\n",
    "\n",
    "model_config[\"learning_rate\"] = 1.2\n",
    "print(model_config)"
   ]
  },
  {
   "cell_type": "code",
   "execution_count": 30,
   "id": "80dbc1b4-b9a5-4cdc-8988-270ffea0272c",
   "metadata": {},
   "outputs": [
    {
     "name": "stdout",
     "output_type": "stream",
     "text": [
      "{'model_name': 'basic_linear_regression', 'learning_rate': 1.2}\n",
      "{}\n"
     ]
    }
   ],
   "source": [
    "del model_config[\"epochs\"]  # delete a key\n",
    "print(model_config)\n",
    "model_config.clear()  # clear the dictionary\n",
    "print(model_config)"
   ]
  }
 ],
 "metadata": {
  "kernelspec": {
   "display_name": "Python 3 (ipykernel)",
   "language": "python",
   "name": "python3"
  },
  "language_info": {
   "codemirror_mode": {
    "name": "ipython",
    "version": 3
   },
   "file_extension": ".py",
   "mimetype": "text/x-python",
   "name": "python",
   "nbconvert_exporter": "python",
   "pygments_lexer": "ipython3",
   "version": "3.13.1"
  }
 },
 "nbformat": 4,
 "nbformat_minor": 5
}
