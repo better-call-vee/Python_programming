{
 "cells": [
  {
   "cell_type": "markdown",
   "id": "35c91005-baa1-49ee-b20e-87a6539da958",
   "metadata": {},
   "source": [
    "**OOP => CLASS AND OBJECT. Class is like a `blueprint` and Object is like the `product` following that blueprint.**\n",
    "Suppose, a cooking recipe of meats. that's a `CLASS` and cooking chicken following it, cooked chicken is the `OBJECT`"
   ]
  },
  {
   "cell_type": "markdown",
   "id": "db86f64c-155e-468c-af83-e53daf02a2fb",
   "metadata": {},
   "source": [
    "**CONSTRUCTOR**"
   ]
  },
  {
   "cell_type": "code",
   "execution_count": 3,
   "id": "a2590c2f-d6a5-41e7-9bd0-bb4f4b44643b",
   "metadata": {},
   "outputs": [
    {
     "name": "stdout",
     "output_type": "stream",
     "text": [
      "This is a Chicken recipe that takes 25 minutes\n",
      "This is a Beef recipe that takes 75 minutes\n"
     ]
    }
   ],
   "source": [
    "class MeatRecipe: \n",
    "    def __init__(self, mt, ct):\n",
    "        self.meat_type = mt\n",
    "        self.cooking_time = ct\n",
    "\n",
    "    def display_recipe(self):\n",
    "        print(f\"This is a {self.meat_type} recipe that takes {self.cooking_time} minutes\")\n",
    "\n",
    "\n",
    "recipe1 = MeatRecipe(\"Chicken\", 25)\n",
    "recipe2 = MeatRecipe(\"Beef\", 75)\n",
    "\n",
    "recipe1.display_recipe()\n",
    "recipe2.display_recipe()"
   ]
  },
  {
   "cell_type": "markdown",
   "id": "3035c1f1-b5a0-4bd1-9607-cd8bb8dc7d0c",
   "metadata": {},
   "source": [
    "This is how constructor works in python.\n",
    "an `__init__` function. \n",
    "the most important part is the `self` part. it is the object we are working on.\n",
    "we can use any name as the parameters for the constructor. \n",
    "also, we can use other names for the attributes of the self object.\n"
   ]
  },
  {
   "cell_type": "code",
   "execution_count": 4,
   "id": "5738c123-45cc-4bfb-9530-d6d3c9b0ca36",
   "metadata": {},
   "outputs": [],
   "source": [
    "class MyCoolModel:\n",
    "    def __init__(self, learning_rate):\n",
    "        self.lr = learning_rate\n",
    "\n",
    "    def load_data(self):\n",
    "        # I'll write this code later\n",
    "        pass\n",
    "\n",
    "    def clean_data(self):\n",
    "        # TODO: implement this next week\n",
    "        pass\n",
    "\n",
    "    def train_model(self):\n",
    "        print(\"Okay, I'll focus on writing this part first!\")"
   ]
  },
  {
   "cell_type": "markdown",
   "id": "3006d731-e016-4340-90f0-31a8595befb0",
   "metadata": {},
   "source": [
    "when We don't have time to write the code, or we will write later. we can simply write \"pass\" and the code will still work."
   ]
  },
  {
   "cell_type": "markdown",
   "id": "4417a7a6-fa04-49c8-86aa-574f2e69f1c9",
   "metadata": {},
   "source": [
    "***INHERITANCE***"
   ]
  },
  {
   "cell_type": "code",
   "execution_count": 2,
   "id": "fc08e556-e658-4561-a697-2ebd5f37cf03",
   "metadata": {},
   "outputs": [
    {
     "name": "stdout",
     "output_type": "stream",
     "text": [
      "Try our new hot crispy Lamb curry\n"
     ]
    }
   ],
   "source": [
    "class MeatRecipe:\n",
    "    def __init__(self, mt, ct, sl):\n",
    "        self.meat_type = mt\n",
    "        self.cooking_time = ct\n",
    "        self.spice_level = sl\n",
    "\n",
    "\n",
    "class CurryRecipe(MeatRecipe):\n",
    "    def __init__(self, mt, ct, sl, ft):\n",
    "        super().__init__(mt, ct, sl)\n",
    "        self.fry_type = ft\n",
    "\n",
    "    def PRINT(self):\n",
    "        print(f\"Try our new {self.spice_level} {self.fry_type} {self.meat_type} curry\")/\n",
    "\n",
    "\n",
    "rec1 = CurryRecipe(\"Lamb\", 20, \"hot\", \"crispy\")\n",
    "rec1.PRINT()\n",
    "        "
   ]
  },
  {
   "cell_type": "markdown",
   "id": "c2db963d-d051-4c17-8dad-51f246388334",
   "metadata": {},
   "source": [
    "this is how inheritance works. mainly, the child class inherits it's parent's attributes and methods. \n",
    "with the `super().__init__` method, the child class access the parent class's constructor."
   ]
  },
  {
   "cell_type": "code",
   "execution_count": null,
   "id": "f4b69f59-1eaf-4a62-928a-4a600a9acada",
   "metadata": {},
   "outputs": [],
   "source": []
  }
 ],
 "metadata": {
  "kernelspec": {
   "display_name": "Python 3 (ipykernel)",
   "language": "python",
   "name": "python3"
  },
  "language_info": {
   "codemirror_mode": {
    "name": "ipython",
    "version": 3
   },
   "file_extension": ".py",
   "mimetype": "text/x-python",
   "name": "python",
   "nbconvert_exporter": "python",
   "pygments_lexer": "ipython3",
   "version": "3.13.1"
  }
 },
 "nbformat": 4,
 "nbformat_minor": 5
}
