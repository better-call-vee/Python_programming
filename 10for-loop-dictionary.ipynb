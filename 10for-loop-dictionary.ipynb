{
 "cells": [
  {
   "cell_type": "code",
   "execution_count": 1,
   "id": "6d7ea4d5-f8e8-4fe3-8eca-fe91a913a8dc",
   "metadata": {},
   "outputs": [],
   "source": [
    "shopping = [\"apples\", \"bread\", \"milk\", \"coffee\"]"
   ]
  },
  {
   "cell_type": "markdown",
   "id": "b1ee9d75-4a80-4938-8abb-e8d446a27175",
   "metadata": {},
   "source": [
    "**for loop is like an *English Sentence* , let's see**"
   ]
  },
  {
   "cell_type": "code",
   "execution_count": 2,
   "id": "ca942431-6bb2-4f1e-a872-e3c328f26d82",
   "metadata": {},
   "outputs": [
    {
     "name": "stdout",
     "output_type": "stream",
     "text": [
      "I need to buy: apples\n",
      "I need to buy: bread\n",
      "I need to buy: milk\n",
      "I need to buy: coffee\n"
     ]
    }
   ],
   "source": [
    "for item in shopping:\n",
    "    print(f\"I need to buy: {item}\")"
   ]
  },
  {
   "cell_type": "code",
   "execution_count": 1,
   "id": "6fc7cfa5-6c8c-4b7e-bb14-5bd224d42b7d",
   "metadata": {},
   "outputs": [
    {
     "name": "stdout",
     "output_type": "stream",
     "text": [
      "This is loop number: 0\n",
      "This is loop number: 1\n",
      "This is loop number: 2\n",
      "This is loop number: 3\n",
      "This is loop number: 4\n"
     ]
    }
   ],
   "source": [
    "for number in range(5):\n",
    "  print(\"This is loop number:\", number)"
   ]
  },
  {
   "cell_type": "markdown",
   "id": "11f25bf6-5169-42ed-b87c-a4b4da29ec83",
   "metadata": {},
   "source": [
    "this is a ranged loop. it will run from 0 to 4, in range of 5"
   ]
  },
  {
   "cell_type": "code",
   "execution_count": 3,
   "id": "fbd2d4c7-399b-4f05-9f2f-7fccfb766d66",
   "metadata": {
    "collapsed": true,
    "jupyter": {
     "outputs_hidden": true
    },
    "scrolled": true
   },
   "outputs": [
    {
     "name": "stdout",
     "output_type": "stream",
     "text": [
      "odds: 99\n",
      "odds: 97\n",
      "odds: 95\n",
      "odds: 93\n",
      "odds: 91\n",
      "odds: 89\n",
      "odds: 87\n",
      "odds: 85\n",
      "odds: 83\n",
      "odds: 81\n",
      "odds: 79\n",
      "odds: 77\n",
      "odds: 75\n",
      "odds: 73\n",
      "odds: 71\n",
      "odds: 69\n",
      "odds: 67\n",
      "odds: 65\n",
      "odds: 63\n",
      "odds: 61\n",
      "odds: 59\n",
      "odds: 57\n",
      "odds: 55\n",
      "odds: 53\n",
      "odds: 51\n",
      "odds: 49\n",
      "odds: 47\n",
      "odds: 45\n",
      "odds: 43\n",
      "odds: 41\n",
      "odds: 39\n",
      "odds: 37\n",
      "odds: 35\n",
      "odds: 33\n",
      "odds: 31\n",
      "odds: 29\n",
      "odds: 27\n",
      "odds: 25\n",
      "odds: 23\n",
      "odds: 21\n",
      "odds: 19\n",
      "odds: 17\n",
      "odds: 15\n",
      "odds: 13\n",
      "odds: 11\n",
      "odds: 9\n",
      "odds: 7\n",
      "odds: 5\n",
      "odds: 3\n",
      "odds: 1\n"
     ]
    }
   ],
   "source": [
    "for odd in range(99, 0, -2):\n",
    "    print(f\"odds: {odd}\")"
   ]
  },
  {
   "cell_type": "markdown",
   "id": "1518c002-6f65-48b8-ac11-8d0a0d5ad35e",
   "metadata": {},
   "source": [
    "this prints odd numbers from 99 to 1 but it is with the range method"
   ]
  },
  {
   "cell_type": "code",
   "execution_count": 4,
   "id": "662c95c3-f24c-423d-b2ea-8309ffb697df",
   "metadata": {},
   "outputs": [
    {
     "name": "stdout",
     "output_type": "stream",
     "text": [
      "The login counts are: {'user_1': 2, 'user_3': 3, 'user_2': 1}\n",
      "The user with the most successful logins is: user_3\n"
     ]
    }
   ],
   "source": [
    "logs = [\n",
    "    \"user_1,LOGIN,SUCCESS\",\n",
    "    \"user_2,READ_FILE,SUCCESS\",\n",
    "    \"user_1,LOGIN,FAILURE\",\n",
    "    \"user_3,LOGIN,SUCCESS\",\n",
    "    \"user_2,LOGOUT,SUCCESS\",\n",
    "    \"user_1,LOGIN,SUCCESS\",\n",
    "    \"user_3,LOGIN,SUCCESS\",\n",
    "    \"user_1,LOGOUT,SUCCESS\",\n",
    "    \"user_2,LOGIN,SUCCESS\",\n",
    "    \"user_3,LOGIN,SUCCESS\",\n",
    "]\n",
    "\n",
    "# 1. Create an empty dictionary\n",
    "login_counts = {}\n",
    "\n",
    "# 2. Loop through each log\n",
    "for log in logs:\n",
    "    # 3. Parse the string\n",
    "    parts = log.split(',')\n",
    "    user = parts[0]\n",
    "    action = parts[1]\n",
    "    result = parts[2]\n",
    "\n",
    "    # 4. Check the condition\n",
    "    if action == 'LOGIN' and result == 'SUCCESS':\n",
    "        # 5. Update the count\n",
    "        if user in login_counts:\n",
    "            login_counts[user] += 1\n",
    "        else:\n",
    "            login_counts[user] = 1\n",
    "\n",
    "# 6. Find the user with the max count\n",
    "# We'll cover a more elegant way to do this later,\n",
    "# but for now, let's do it with a simple loop.\n",
    "max_count_user = None\n",
    "max_count = -1\n",
    "for user, count in login_counts.items(): # .items() gives us key-value pairs\n",
    "    if count > max_count:\n",
    "        max_count = count\n",
    "        max_count_user = user\n",
    "\n",
    "print(f\"The login counts are: {login_counts}\")\n",
    "print(f\"The user with the most successful logins is: {max_count_user}\")"
   ]
  },
  {
   "cell_type": "markdown",
   "id": "8f5a03c7-6c9e-41ab-a1e5-5d2b825edeee",
   "metadata": {},
   "source": [
    "***dictionary works like map of c++***"
   ]
  },
  {
   "cell_type": "code",
   "execution_count": 5,
   "id": "6ab409c7-5d55-4dcd-b70b-2990cda13717",
   "metadata": {},
   "outputs": [
    {
     "name": "stdout",
     "output_type": "stream",
     "text": [
      "The Counter object: Counter({'user_3': 3, 'user_1': 2, 'user_2': 1})\n",
      "The most common user is: user_3\n"
     ]
    }
   ],
   "source": [
    "from collections import Counter\n",
    "\n",
    "# 1. Create a list of only the users who had a successful login\n",
    "successful_users = [log.split(',')[0] for log in logs if \"LOGIN,SUCCESS\" in log]\n",
    "\n",
    "# 2. Count them automatically\n",
    "count = Counter(successful_users)\n",
    "\n",
    "# 3. The Counter object has a special method to get the most common items\n",
    "print(f\"The Counter object: {count}\")\n",
    "print(f\"The most common user is: {count.most_common(1)[0][0]}\")"
   ]
  },
  {
   "cell_type": "markdown",
   "id": "18639574-6a1a-4d87-afb6-7994bf8cc116",
   "metadata": {},
   "source": [
    "the previous same problem but solved in a different way:\n",
    "the most common is gotten by the line count.most_common\n",
    "most_common(2) will give me `[('user_3' = 3), ('user_1' = 2)]`\n",
    "and then the [0][0]'s first one access the 'user_x' and second one is the count. "
   ]
  },
  {
   "cell_type": "code",
   "execution_count": null,
   "id": "2eb4e5b7-8062-437f-8bdf-ddedebce3e35",
   "metadata": {},
   "outputs": [],
   "source": []
  }
 ],
 "metadata": {
  "kernelspec": {
   "display_name": "Python 3 (ipykernel)",
   "language": "python",
   "name": "python3"
  },
  "language_info": {
   "codemirror_mode": {
    "name": "ipython",
    "version": 3
   },
   "file_extension": ".py",
   "mimetype": "text/x-python",
   "name": "python",
   "nbconvert_exporter": "python",
   "pygments_lexer": "ipython3",
   "version": "3.13.1"
  }
 },
 "nbformat": 4,
 "nbformat_minor": 5
}
