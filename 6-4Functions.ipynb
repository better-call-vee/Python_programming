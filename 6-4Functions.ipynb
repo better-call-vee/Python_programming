{
 "cells": [
  {
   "cell_type": "code",
   "execution_count": 12,
   "id": "79d38eb6-3e1b-4e9b-b5c3-69612cb9b1cd",
   "metadata": {},
   "outputs": [
    {
     "name": "stdout",
     "output_type": "stream",
     "text": [
      "{'id': '4a3a233', 'measurement': '3 GB', 'status': 'unverified'}\n"
     ]
    }
   ],
   "source": [
    "def create_data_record(id_code, measurement, status =\"unverified\"):\n",
    "    data[\"id\"] = id_code\n",
    "    data[\"measurement\"] = measurement\n",
    "    data[\"status\"] = status\n",
    "    return data;\n",
    "\n",
    "returned = create_data_record(\"4a3a233\", \"3 GB\")\n",
    "print(returned)"
   ]
  },
  {
   "cell_type": "markdown",
   "id": "abd415b1-34d7-4ff7-961e-5fa77cd78ebc",
   "metadata": {},
   "source": [
    "***Functions are reusable tools that you build once and use many times. They take inputs, called parameters, like id_code and measurement in your function's definition. The most important feature of a professional function is that it is self-contained and gives back a result using the return keyword.***"
   ]
  },
  {
   "cell_type": "code",
   "execution_count": 13,
   "id": "1c4b9cde-2b46-46b0-b271-de4ee61f9f65",
   "metadata": {},
   "outputs": [
    {
     "name": "stdout",
     "output_type": "stream",
     "text": [
      "{'model_name': 'initial_model', 'learning_rate': 0.5}\n"
     ]
    }
   ],
   "source": [
    "def update_rate_safely(config_dict, new_rate):\n",
    "    # This function only knows about what's passed into it\n",
    "    config_dict[\"learning_rate\"] = new_rate\n",
    "    return config_dict\n",
    "\n",
    "# We start with our data\n",
    "model_config = {\n",
    "    \"model_name\": \"initial_model\",\n",
    "    \"learning_rate\": 0.01\n",
    "}\n",
    "\n",
    "# We explicitly pass it in and capture the returned, modified version\n",
    "model_config = update_rate_safely(model_config, 0.5) \n",
    "# The change is explicit and traceable right here.\n",
    "\n",
    "print(model_config)"
   ]
  }
 ],
 "metadata": {
  "kernelspec": {
   "display_name": "Python 3 (ipykernel)",
   "language": "python",
   "name": "python3"
  },
  "language_info": {
   "codemirror_mode": {
    "name": "ipython",
    "version": 3
   },
   "file_extension": ".py",
   "mimetype": "text/x-python",
   "name": "python",
   "nbconvert_exporter": "python",
   "pygments_lexer": "ipython3",
   "version": "3.13.1"
  }
 },
 "nbformat": 4,
 "nbformat_minor": 5
}
