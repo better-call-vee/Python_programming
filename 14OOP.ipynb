{
 "cells": [
  {
   "cell_type": "markdown",
   "id": "35c91005-baa1-49ee-b20e-87a6539da958",
   "metadata": {},
   "source": [
    "**OOP => CLASS AND OBJECT. Class is like a `blueprint` and Object is like the `product` following that blueprint.**\n",
    "Suppose, a cooking recipe of meats. that's a `CLASS` and cooking chicken following it, cooked chicken is the `OBJECT`"
   ]
  },
  {
   "cell_type": "code",
   "execution_count": null,
   "id": "f774139e-5b5d-487a-89ba-769d39dd7261",
   "metadata": {},
   "outputs": [],
   "source": []
  }
 ],
 "metadata": {
  "kernelspec": {
   "display_name": "Python 3 (ipykernel)",
   "language": "python",
   "name": "python3"
  },
  "language_info": {
   "codemirror_mode": {
    "name": "ipython",
    "version": 3
   },
   "file_extension": ".py",
   "mimetype": "text/x-python",
   "name": "python",
   "nbconvert_exporter": "python",
   "pygments_lexer": "ipython3",
   "version": "3.13.1"
  }
 },
 "nbformat": 4,
 "nbformat_minor": 5
}
