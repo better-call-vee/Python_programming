{
 "cells": [
  {
   "cell_type": "code",
   "execution_count": 14,
   "id": "347e97bb-29c0-4117-8c03-86bc0fbd8441",
   "metadata": {
    "scrolled": true
   },
   "outputs": [
    {
     "name": "stdout",
     "output_type": "stream",
     "text": [
      "The square root of 16 is: 4.0\n",
      "4 to the power of 3 is: 64.0\n",
      "Ceiling of 5.1 is: 6\n",
      "Floor of 5.9 is: 5\n",
      "Natural log of 10 is: 2.302585092994046\n",
      "Log base 10 of 1000 is: 3.0\n",
      "digit count of 3456 is: 5\n",
      "2\n",
      "The value of pi is: 3.141592653589793\n"
     ]
    }
   ],
   "source": [
    "import math\n",
    "\n",
    "# Square root\n",
    "print(f\"The square root of 16 is: {math.sqrt(16)}\")\n",
    "\n",
    "# Power (Note: 4**3 works too, but math.pow always returns a float)\n",
    "print(f\"4 to the power of 3 is: {math.pow(4, 3)}\")\n",
    "\n",
    "# Ceiling and Floor (incredibly useful)\n",
    "print(f\"Ceiling of 5.1 is: {math.ceil(5.1)}\")  # Always rounds up\n",
    "print(f\"Floor of 5.9 is: {math.floor(5.9)}\")  # Always rounds down\n",
    "\n",
    "# Logarithms (natural log, log base 2, log base 10)\n",
    "print(f\"Natural log of 10 is: {math.log(10)}\")\n",
    "print(f\"Log base 10 of 1000 is: {math.log10(1000)}\")\n",
    "print(f\"digit count of 3456 is: {round(math.log10(3456) + 1)}\")\n",
    "\n",
    "a, b, c = 2, 4, 7\n",
    "print(min([a, b, c]))\n",
    "\n",
    "# Constants\n",
    "print(f\"The value of pi is: {math.pi}\")"
   ]
  },
  {
   "cell_type": "code",
   "execution_count": 15,
   "id": "0c8492c2-538f-413b-8f6f-eb3225fdedb1",
   "metadata": {},
   "outputs": [
    {
     "name": "stdout",
     "output_type": "stream",
     "text": [
      "Factorial of 100 is 93326215443944152681699238856266700490715968264381621468592963895217599993229915608941463976156518286253697920827223758251185210916864000000000000000000000000\n"
     ]
    }
   ],
   "source": [
    "print(f\"Factorial of 100 is {math.factorial(100)}\")"
   ]
  },
  {
   "cell_type": "markdown",
   "id": "d05dbc21-c526-4208-a415-4aa57445cb99",
   "metadata": {},
   "source": [
    "***Python supports big integers***"
   ]
  },
  {
   "cell_type": "code",
   "execution_count": 18,
   "id": "ffb99920-7a44-4fde-81d0-77cb65be3421",
   "metadata": {},
   "outputs": [
    {
     "ename": "ModuleNotFoundError",
     "evalue": "No module named 'numpy'",
     "output_type": "error",
     "traceback": [
      "\u001b[31m---------------------------------------------------------------------------\u001b[39m",
      "\u001b[31mModuleNotFoundError\u001b[39m                       Traceback (most recent call last)",
      "\u001b[36mCell\u001b[39m\u001b[36m \u001b[39m\u001b[32mIn[18]\u001b[39m\u001b[32m, line 1\u001b[39m\n\u001b[32m----> \u001b[39m\u001b[32m1\u001b[39m \u001b[38;5;28;01mimport\u001b[39;00m\u001b[38;5;250m \u001b[39m\u001b[34;01mnumpy\u001b[39;00m\u001b[38;5;250m \u001b[39m\u001b[38;5;28;01mas\u001b[39;00m\u001b[38;5;250m \u001b[39m\u001b[34;01mnp\u001b[39;00m\n\u001b[32m      3\u001b[39m my_array = np.array([\u001b[32m4\u001b[39m, \u001b[32m9\u001b[39m, \u001b[32m16\u001b[39m, \u001b[32m25\u001b[39m])  \u001b[38;5;66;03m# First, create a NumPy array\u001b[39;00m\n\u001b[32m      4\u001b[39m results = np.sqrt(my_array)  \u001b[38;5;66;03m# Then, apply the function to the WHOLE array at once\u001b[39;00m\n",
      "\u001b[31mModuleNotFoundError\u001b[39m: No module named 'numpy'"
     ]
    }
   ],
   "source": [
    "import numpy as np\n",
    "\n",
    "my_array = np.array([4, 9, 16, 25])  # First, create a NumPy array\n",
    "results = np.sqrt(my_array)  # Then, apply the function to the WHOLE array at once\n",
    "\n",
    "print(results)"
   ]
  },
  {
   "cell_type": "code",
   "execution_count": null,
   "id": "f46a567c-3e64-4f47-8744-d3706ceeb124",
   "metadata": {},
   "outputs": [],
   "source": []
  }
 ],
 "metadata": {
  "kernelspec": {
   "display_name": "Python 3 (ipykernel)",
   "language": "python",
   "name": "python3"
  },
  "language_info": {
   "codemirror_mode": {
    "name": "ipython",
    "version": 3
   },
   "file_extension": ".py",
   "mimetype": "text/x-python",
   "name": "python",
   "nbconvert_exporter": "python",
   "pygments_lexer": "ipython3",
   "version": "3.13.1"
  }
 },
 "nbformat": 4,
 "nbformat_minor": 5
}
