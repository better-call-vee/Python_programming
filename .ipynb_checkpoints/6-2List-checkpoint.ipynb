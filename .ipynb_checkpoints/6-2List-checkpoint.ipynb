{
 "cells": [
  {
   "cell_type": "code",
   "execution_count": 2,
   "id": "877ff2a7-9240-4682-be04-3e395896b0b1",
   "metadata": {},
   "outputs": [
    {
     "name": "stdout",
     "output_type": "stream",
     "text": [
      "['3idiots', 'shawshank', 'lunchbox', 'avengersendgame', 'lifeofpi', 'Inception']\n"
     ]
    }
   ],
   "source": [
    "favmovs = [\"3idiots\", \"shawshank\", \"lunchbox\", \"avengersendgame\", \"lifeofpi\"]\n",
    "favmovs.append(\"Inception\")\n",
    "print(favmovs)"
   ]
  },
  {
   "cell_type": "code",
   "execution_count": 5,
   "id": "c0c68482-fe2c-41de-9bbb-028b6c4f521a",
   "metadata": {},
   "outputs": [
    {
     "name": "stdout",
     "output_type": "stream",
     "text": [
      "['3idiots', 'shawshank', 'lunchbox', 'avengersendgame']\n",
      "My remaining movies count: 4\n"
     ]
    },
    {
     "ename": "IndexError",
     "evalue": "pop index out of range",
     "output_type": "error",
     "traceback": [
      "\u001b[31m---------------------------------------------------------------------------\u001b[39m",
      "\u001b[31mIndexError\u001b[39m                                Traceback (most recent call last)",
      "\u001b[36mCell\u001b[39m\u001b[36m \u001b[39m\u001b[32mIn[5]\u001b[39m\u001b[32m, line 3\u001b[39m\n\u001b[32m      1\u001b[39m \u001b[38;5;28mprint\u001b[39m(favmovs)\n\u001b[32m      2\u001b[39m \u001b[38;5;28mprint\u001b[39m(\u001b[33mf\u001b[39m\u001b[33m\"\u001b[39m\u001b[33mMy remaining movies count: \u001b[39m\u001b[38;5;132;01m{\u001b[39;00m\u001b[38;5;28mlen\u001b[39m(favmovs)\u001b[38;5;132;01m}\u001b[39;00m\u001b[33m\"\u001b[39m)\n\u001b[32m----> \u001b[39m\u001b[32m3\u001b[39m watched_movie = \u001b[43mfavmovs\u001b[49m\u001b[43m.\u001b[49m\u001b[43mpop\u001b[49m\u001b[43m(\u001b[49m\u001b[32;43m4\u001b[39;49m\u001b[43m)\u001b[49m\n\u001b[32m      4\u001b[39m \u001b[38;5;28mprint\u001b[39m(\u001b[33m\"\u001b[39m\u001b[33mI just watched:\u001b[39m\u001b[33m\"\u001b[39m, watched_movie)\n\u001b[32m      5\u001b[39m \u001b[38;5;28mprint\u001b[39m(\u001b[33m\"\u001b[39m\u001b[33mMy remaining watchlist:\u001b[39m\u001b[33m\"\u001b[39m, favmovs)\n",
      "\u001b[31mIndexError\u001b[39m: pop index out of range"
     ]
    }
   ],
   "source": [
    "print(favmovs)\n",
    "print(f\"My remaining movies count: {len(favmovs)}\")\n",
    "watched_movie = favmovs.pop(4)\n",
    "print(\"I just watched:\", watched_movie)\n",
    "print(\"My remaining watchlist:\", favmovs)\n",
    "print(f\"My remaining movies count: {len(favmovs)}\")"
   ]
  },
  {
   "cell_type": "markdown",
   "id": "6d324166-039a-4dce-baf7-115d11169e2f",
   "metadata": {},
   "source": [
    "Lists are like vectors in c++. \n",
    "we can append / pop (at any index), pop() blank means the last element.\n",
    "pop(index no.)\n"
   ]
  }
 ],
 "metadata": {
  "kernelspec": {
   "display_name": "Python 3 (ipykernel)",
   "language": "python",
   "name": "python3"
  },
  "language_info": {
   "codemirror_mode": {
    "name": "ipython",
    "version": 3
   },
   "file_extension": ".py",
   "mimetype": "text/x-python",
   "name": "python",
   "nbconvert_exporter": "python",
   "pygments_lexer": "ipython3",
   "version": "3.13.1"
  }
 },
 "nbformat": 4,
 "nbformat_minor": 5
}
