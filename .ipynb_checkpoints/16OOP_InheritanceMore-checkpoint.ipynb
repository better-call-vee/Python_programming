{
 "cells": [
  {
   "cell_type": "markdown",
   "id": "9274f565-e579-4e2f-b187-3441183f76fa",
   "metadata": {},
   "source": [
    "***Multilevel Inheritance***, `where there is a grand class and a grand child class`"
   ]
  },
  {
   "cell_type": "code",
   "execution_count": 1,
   "id": "b59cbeb7-ac21-48ea-b620-ee1fe93a1e7c",
   "metadata": {},
   "outputs": [
    {
     "name": "stdout",
     "output_type": "stream",
     "text": [
      "Battery is charging.\n",
      "Car is driving.\n",
      "Engine started.\n"
     ]
    }
   ],
   "source": [
    "# Grandparent Class\n",
    "class Vehicle:\n",
    "    def start_engine(self):\n",
    "        print(\"Engine started.\")\n",
    "\n",
    "# Parent Class (inherits from Vehicle)\n",
    "class Car(Vehicle):\n",
    "    def drive(self):\n",
    "        print(\"Car is driving.\")\n",
    "\n",
    "# Child Class (inherits from Car)\n",
    "class ElectricCar(Car):\n",
    "    def charge_battery(self):\n",
    "        print(\"Battery is charging.\")\n",
    "\n",
    "# --- Let's create the grandchild ---\n",
    "my_tesla = ElectricCar()\n",
    "\n",
    "# It can use its OWN method:\n",
    "my_tesla.charge_battery()\n",
    "\n",
    "# It can use its PARENT'S method:\n",
    "my_tesla.drive()\n",
    "\n",
    "# It can use its GRANDPARENT'S method:\n",
    "my_tesla.start_engine()"
   ]
  },
  {
   "cell_type": "markdown",
   "id": "a12c089c-4ab9-4c8b-b542-21cda7bdda6e",
   "metadata": {},
   "source": [
    "***Hierarchical Inheritance***, `Where One parent has multiple child classes. `"
   ]
  },
  {
   "cell_type": "code",
   "execution_count": 2,
   "id": "ddcd2735-bf0d-46d7-a518-b7b01523046f",
   "metadata": {},
   "outputs": [
    {
     "name": "stdout",
     "output_type": "stream",
     "text": [
      "The Honda's engine is running.\n",
      "The Yamaha's engine is running.\n",
      "Trunk is open.\n",
      "Doing a sick wheelie! 🏍️\n",
      "Error: 'Car' object has no attribute 'do_wheelie'\n"
     ]
    }
   ],
   "source": [
    "# Parent Class\n",
    "class Vehicle:\n",
    "    def __init__(self, brand):\n",
    "        self.brand = brand\n",
    "\n",
    "    def start_engine(self):\n",
    "        print(f\"The {self.brand}'s engine is running.\")\n",
    "\n",
    "# Child Class 1\n",
    "class Car(Vehicle):\n",
    "    def open_trunk(self):\n",
    "        print(\"Trunk is open.\")\n",
    "\n",
    "# Child Class 2\n",
    "class Motorcycle(Vehicle):\n",
    "    def do_wheelie(self):\n",
    "        print(\"Doing a sick wheelie! 🏍️\")\n",
    "\n",
    "# --- Let's create instances of the children ---\n",
    "my_car = Car(\"Honda\")\n",
    "my_motorcycle = Motorcycle(\"Yamaha\")\n",
    "\n",
    "# Both children can use the PARENT'S method\n",
    "my_car.start_engine()\n",
    "my_motorcycle.start_engine()\n",
    "\n",
    "# Each child can use its OWN unique method\n",
    "my_car.open_trunk()\n",
    "my_motorcycle.do_wheelie()\n",
    "\n",
    "# But a Car CANNOT use a Motorcycle's method\n",
    "try:\n",
    "    my_car.do_wheelie()\n",
    "except AttributeError as e:\n",
    "    print(f\"Error: {e}\")"
   ]
  },
  {
   "cell_type": "markdown",
   "id": "6264a79d-4d74-4e7b-b9d6-f04a8fe4af65",
   "metadata": {},
   "source": [
    "## **Multilevel Inheritance** when one child class inherits from two or more parent classes."
   ]
  },
  {
   "cell_type": "code",
   "execution_count": 3,
   "id": "9f4834bc-2ddf-4a90-af5e-dd708f4e2b53",
   "metadata": {},
   "outputs": [
    {
     "name": "stdout",
     "output_type": "stream",
     "text": [
      "I can code in Python.\n",
      "I can cook delicious pasta.\n",
      "I can play video games.\n"
     ]
    }
   ],
   "source": [
    "# Parent Class 1\n",
    "class Father:\n",
    "    def coding_skill(self):\n",
    "        print(\"I can code in Python.\")\n",
    "\n",
    "# Parent Class 2\n",
    "class Mother:\n",
    "    def cooking_skill(self):\n",
    "        print(\"I can cook delicious pasta.\")\n",
    "\n",
    "# Child class inheriting from BOTH Father and Mother\n",
    "class Child(Father, Mother):\n",
    "    def entertainment_skill(self):\n",
    "        print(\"I can play video games.\")\n",
    "\n",
    "# --- Let's create the multi-talented child ---\n",
    "talented_child = Child()\n",
    "\n",
    "# The child can use methods from...\n",
    "talented_child.coding_skill()      # ...the Father class\n",
    "talented_child.cooking_skill()     # ...the Mother class\n",
    "talented_child.entertainment_skill() # ...itself"
   ]
  },
  {
   "cell_type": "markdown",
   "id": "d7b93bad-dcd3-46b3-bcbb-60b5cb7d317a",
   "metadata": {},
   "source": [
    "there is a chance of ambiguity. \n",
    "a child may inherit a function from multiple parents, and then it may inherit a method of the same name which is present in multiple parents.\n",
    "C++ or other languages can't handle this ambiguity. "
   ]
  },
  {
   "cell_type": "code",
   "execution_count": 4,
   "id": "a6780fc6-ec9b-4dde-8a77-27437c0e2f70",
   "metadata": {},
   "outputs": [
    {
     "name": "stdout",
     "output_type": "stream",
     "text": [
      "Flying high in the sky!\n"
     ]
    }
   ],
   "source": [
    "class FlyingAnimal:\n",
    "    def move(self):\n",
    "        print(\"Flying high in the sky!\")\n",
    "\n",
    "class SwimmingAnimal:\n",
    "    def move(self):\n",
    "        print(\"Swimming deep in the ocean!\")\n",
    "\n",
    "# The order here is VERY important: FlyingAnimal is first.\n",
    "class Penguin(FlyingAnimal, SwimmingAnimal):\n",
    "    pass\n",
    "\n",
    "# --- What happens now? ---\n",
    "pingu = Penguin()\n",
    "pingu.move()"
   ]
  },
  {
   "cell_type": "markdown",
   "id": "922506d5-212b-4d57-840d-183ac37c0c9b",
   "metadata": {},
   "source": [
    "Python has this method. \n",
    "### Method Resolution Order (MRO)\n",
    "It first check if the called method is in the child class or not. \n",
    "then it moves to it's first parent. \n",
    "then the next and so on."
   ]
  },
  {
   "cell_type": "code",
   "execution_count": null,
   "id": "08249b6f-48d7-4ce5-8fd7-b7e872aea0a7",
   "metadata": {},
   "outputs": [],
   "source": []
  }
 ],
 "metadata": {
  "kernelspec": {
   "display_name": "Python 3 (ipykernel)",
   "language": "python",
   "name": "python3"
  },
  "language_info": {
   "codemirror_mode": {
    "name": "ipython",
    "version": 3
   },
   "file_extension": ".py",
   "mimetype": "text/x-python",
   "name": "python",
   "nbconvert_exporter": "python",
   "pygments_lexer": "ipython3",
   "version": "3.13.1"
  }
 },
 "nbformat": 4,
 "nbformat_minor": 5
}
