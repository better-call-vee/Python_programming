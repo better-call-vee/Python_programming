{
 "cells": [
  {
   "cell_type": "code",
   "execution_count": 1,
   "id": "877ff2a7-9240-4682-be04-3e395896b0b1",
   "metadata": {},
   "outputs": [
    {
     "name": "stdout",
     "output_type": "stream",
     "text": [
      "['3idiots', 'shawshank', 'lunchbox', 'avengersendgame', 'lifeofpi', 'Inception']\n"
     ]
    }
   ],
   "source": [
    "favmovs = [\"3idiots\", \"shawshank\", \"lunchbox\", \"avengersendgame\", \"lifeofpi\"]\n",
    "favmovs.append(\"Inception\")\n",
    "print(favmovs)"
   ]
  },
  {
   "cell_type": "code",
   "execution_count": 2,
   "id": "c0c68482-fe2c-41de-9bbb-028b6c4f521a",
   "metadata": {
    "scrolled": true
   },
   "outputs": [
    {
     "name": "stdout",
     "output_type": "stream",
     "text": [
      "['3idiots', 'shawshank', 'lunchbox', 'avengersendgame', 'lifeofpi', 'Inception']\n",
      "My remaining movies count: 6\n",
      "I just watched: lifeofpi\n",
      "My remaining watchlist: ['3idiots', 'shawshank', 'lunchbox', 'avengersendgame', 'Inception']\n",
      "My remaining movies count: 5\n"
     ]
    }
   ],
   "source": [
    "print(favmovs)\n",
    "print(f\"My remaining movies count: {len(favmovs)}\")\n",
    "watched_movie = favmovs.pop(4)\n",
    "print(\"I just watched:\", watched_movie)\n",
    "print(\"My remaining watchlist:\", favmovs)\n",
    "print(f\"My remaining movies count: {len(favmovs)}\")"
   ]
  },
  {
   "cell_type": "markdown",
   "id": "6d324166-039a-4dce-baf7-115d11169e2f",
   "metadata": {},
   "source": [
    "***Lists are like vectors in c++. \n",
    "we can append / pop (at any index), pop() blank means the last element.\n",
    "pop(index no.)***"
   ]
  },
  {
   "cell_type": "code",
   "execution_count": null,
   "id": "dbdc64e4-a6eb-40f0-a858-9183e105ae33",
   "metadata": {},
   "outputs": [],
   "source": []
  }
 ],
 "metadata": {
  "kernelspec": {
   "display_name": "Python 3 (ipykernel)",
   "language": "python",
   "name": "python3"
  },
  "language_info": {
   "codemirror_mode": {
    "name": "ipython",
    "version": 3
   },
   "file_extension": ".py",
   "mimetype": "text/x-python",
   "name": "python",
   "nbconvert_exporter": "python",
   "pygments_lexer": "ipython3",
   "version": "3.13.1"
  }
 },
 "nbformat": 4,
 "nbformat_minor": 5
}
